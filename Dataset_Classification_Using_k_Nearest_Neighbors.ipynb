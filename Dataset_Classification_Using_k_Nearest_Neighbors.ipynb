{
  "metadata": {
    "colab": {
      "provenance": [],
      "name": "Dataset Classification Using k-Nearest Neighbors",
      "include_colab_link": true
    },
    "kernelspec": {
      "name": "python3",
      "display_name": "Python 3",
      "language": "python"
    },
    "language_info": {
      "name": "python",
      "version": "3.10.13",
      "mimetype": "text/x-python",
      "codemirror_mode": {
        "name": "ipython",
        "version": 3
      },
      "pygments_lexer": "ipython3",
      "nbconvert_exporter": "python",
      "file_extension": ".py"
    },
    "toc": {
      "base_numbering": 1,
      "nav_menu": {},
      "number_sections": true,
      "sideBar": true,
      "skip_h1_title": true,
      "title_cell": "Table of Contents",
      "title_sidebar": "Contents",
      "toc_cell": false,
      "toc_position": {},
      "toc_section_display": true,
      "toc_window_display": false
    },
    "kaggle": {
      "accelerator": "none",
      "dataSources": [],
      "dockerImageVersionId": 30732,
      "isInternetEnabled": false,
      "language": "python",
      "sourceType": "notebook",
      "isGpuEnabled": false
    }
  },
  "nbformat_minor": 0,
  "nbformat": 4,
  "cells": [
    {
      "cell_type": "markdown",
      "metadata": {
        "id": "view-in-github",
        "colab_type": "text"
      },
      "source": [
        "<a href=\"https://colab.research.google.com/github/zaffykhan/DataScience/blob/main/Dataset_Classification_Using_k_Nearest_Neighbors.ipynb\" target=\"_parent\"><img src=\"https://colab.research.google.com/assets/colab-badge.svg\" alt=\"Open In Colab\"/></a>"
      ]
    },
    {
      "cell_type": "markdown",
      "source": [
        "Before you turn this problem in, make sure everything runs as expected. First, **restart the kernel** (in the menu bar, select Kernel$\\rightarrow$Restart) and then **run all cells** (in the menu bar, select Cell$\\rightarrow$Run All).\n",
        "\n",
        "\n",
        "Below, please fill in your name and collaborators, if any:"
      ],
      "metadata": {
        "id": "qLYZJKA7QK7V"
      }
    },
    {
      "cell_type": "code",
      "source": [
        "NAME = \"Muneeb Zafar Khan\""
      ],
      "metadata": {
        "id": "b7tVF2rwQK7X",
        "execution": {
          "iopub.status.busy": "2024-06-24T22:06:46.773561Z",
          "iopub.execute_input": "2024-06-24T22:06:46.773988Z",
          "iopub.status.idle": "2024-06-24T22:06:46.818096Z",
          "shell.execute_reply.started": "2024-06-24T22:06:46.773955Z",
          "shell.execute_reply": "2024-06-24T22:06:46.816929Z"
        },
        "trusted": true
      },
      "execution_count": null,
      "outputs": []
    },
    {
      "cell_type": "markdown",
      "source": [
        "# Assignment 4 - Classification"
      ],
      "metadata": {
        "id": "uzEO87pjQK7Y"
      }
    },
    {
      "cell_type": "markdown",
      "source": [
        "In this assignment, you will practice using the kNN (k-Nearest Neighbors) algorithm to solve a classification problem.\n",
        "The kNN is a simple and robust classifier, which is used in different applications.\n",
        "\n",
        "We will use the Iris dataset for this assignment.\n",
        "The dataset was first introduced by statistician R. Fisher and consists of 50 observations from each of three species Iris (_Iris setosa_, _Iris virginica_ and _Iris versicolor_). For each sample, 4 features are given: the sepal length and width, and the petal length and width.\n",
        "\n",
        "The goal is to train kNN algorithm to distinguish the species from one another."
      ],
      "metadata": {
        "id": "9T7d3V4xQK7Y"
      }
    },
    {
      "cell_type": "markdown",
      "source": [
        "1. The dataset can be downloaded from UCI Machine Learning Repository: https://archive.ics.uci.edu/ml/machine-learning-databases/iris/.\n",
        "\n",
        "2. Download `iris.data` file from the Data Folder. The Data Set description with the definitions of all the columns can be found on the dataset page - https://archive.ics.uci.edu/ml/datasets/Iris. Alternatively, you can import the data using sklearn.datasets. You will need to dowload both the sepal/petal data and the target variable information, then merge the two datasets.\n",
        "\n",
        "3. _(1 points)_ Load the data from the file (`iris.data`) into the DataFrame. Set the names of columns according to the column definitions given in Data Description.\n",
        "\n",
        "4. _(2 points)_ **Data inspection.**\n",
        "    - Display the first 5 rows of the dataset and use any relevant functions that can help you to understand the data.\n",
        "    - Prepare 2 scatter plots - `sepal_width` vs `sepal_length` and `petal_width` vs `petal_length`. Scatter plots should show each class in different color (`seaborn.lmplot` is recommended for plotting).\n",
        "\n",
        "5. _(2 points)_ **Prepare the data for classification**.\n",
        "    - Using the pandas operators prepare the feature variables `X` and the response `Y` for the fit. Note that `sklean` expects data as arrays, so convert extracted columns into arrays.\n",
        "\n",
        "6. _(1 point)_ **Split** the data into `train` and `test` using `sklearn` `train_test_split` function.\n",
        "\n",
        "7. _(2 points)_ **Run the fit** using `KNeighborsClassifier` from `sklearn.neighbors`.\n",
        "    - First, instantiate the model,\n",
        "    - Then, run the classifier on the training set.\n",
        "\n",
        "8. _(3 points)_ Use learning model to **predict the class from features**, run prediction on `X` from test part.\n",
        "    - Show the **accuracy score** of the prediction by comparing predicted iris classes and the `Y` values from the test.\n",
        "    - Comparing these two arrays (predicted classes and test `Y`), count the numbers of correct predictions and predictions that were wrong. (**HINTS:** `NumPy` arrays can be compared using `==` operator. You can also use `NumPy`'s operator `count_nonzero` to count number of non-False values).\n",
        "\n",
        "9. _(4 points)_ In this task, we want to see how accuracy score and the number of correct predictions change with the number of neighbors `k`. We will use the following **number of neighbors `k`: 1, 3, 5, 7, 10, 20, 30, 40, and 50**:\n",
        "    - Generate 10 random train/test splits for each value of `k`\n",
        "    - Fit the model for each split and generate predictions\n",
        "    - Average the accuracy score for each `k`\n",
        "    - Calculate the average number of correct predictions for each `k` as well\n",
        "    - Plot the accuracy score for different values of `k`. What conclusion can you make based on the graph?\n"
      ],
      "metadata": {
        "id": "7mOYdjH4QK7Y"
      }
    },
    {
      "cell_type": "code",
      "source": [
        "# Here are all imports that you will need\n",
        "\n",
        "import pandas as pd\n",
        "import matplotlib.pyplot as plt\n",
        "import seaborn as sns\n",
        "%matplotlib inline\n",
        "import numpy as np\n",
        "from sklearn.model_selection import train_test_split\n",
        "from sklearn.neighbors import KNeighborsClassifier"
      ],
      "metadata": {
        "id": "SS_WDHXdQK7Z",
        "execution": {
          "iopub.status.busy": "2024-06-24T22:06:46.820056Z",
          "iopub.execute_input": "2024-06-24T22:06:46.82037Z",
          "iopub.status.idle": "2024-06-24T22:06:50.51903Z",
          "shell.execute_reply.started": "2024-06-24T22:06:46.820343Z",
          "shell.execute_reply": "2024-06-24T22:06:50.517491Z"
        },
        "trusted": true
      },
      "execution_count": null,
      "outputs": []
    },
    {
      "cell_type": "code",
      "source": [
        "# Data download from sklearn\n",
        "from sklearn.datasets import load_iris\n",
        "data=load_iris().data\n",
        "target=load_iris().target\n",
        "df_data=pd.DataFrame(data,columns=['sepal_length','sepal_width','petal_length','petal_width'])\n",
        "df_target=pd.DataFrame(target,columns=['target'])\n",
        "\n",
        "# Remember to merge the DataFrames into one after they are created."
      ],
      "metadata": {
        "id": "J-gJw-doQK7a",
        "execution": {
          "iopub.status.busy": "2024-06-24T22:06:50.521029Z",
          "iopub.execute_input": "2024-06-24T22:06:50.521741Z",
          "iopub.status.idle": "2024-06-24T22:06:50.658094Z",
          "shell.execute_reply.started": "2024-06-24T22:06:50.521705Z",
          "shell.execute_reply": "2024-06-24T22:06:50.656929Z"
        },
        "trusted": true
      },
      "execution_count": null,
      "outputs": []
    },
    {
      "cell_type": "code",
      "source": [
        "## TYPE YOUR CODE HERE"
      ],
      "metadata": {
        "id": "MojKmU3jQK7a",
        "execution": {
          "iopub.status.busy": "2024-06-24T22:06:50.660721Z",
          "iopub.execute_input": "2024-06-24T22:06:50.661082Z",
          "iopub.status.idle": "2024-06-24T22:06:50.666719Z",
          "shell.execute_reply.started": "2024-06-24T22:06:50.661053Z",
          "shell.execute_reply": "2024-06-24T22:06:50.665493Z"
        },
        "trusted": true
      },
      "execution_count": null,
      "outputs": []
    },
    {
      "cell_type": "code",
      "source": [],
      "metadata": {
        "id": "jZKgEVKQQK7a"
      },
      "execution_count": null,
      "outputs": []
    },
    {
      "cell_type": "code",
      "source": [
        "# Merge the DataFrames into one\n",
        "df = pd.concat([df_data, df_target], axis=1)"
      ],
      "metadata": {
        "id": "wEgaNDGQQK7a",
        "execution": {
          "iopub.status.busy": "2024-06-24T22:06:50.672544Z",
          "iopub.execute_input": "2024-06-24T22:06:50.673663Z",
          "iopub.status.idle": "2024-06-24T22:06:50.679765Z",
          "shell.execute_reply.started": "2024-06-24T22:06:50.673619Z",
          "shell.execute_reply": "2024-06-24T22:06:50.678466Z"
        },
        "trusted": true
      },
      "execution_count": null,
      "outputs": []
    },
    {
      "cell_type": "code",
      "source": [
        "# Display the first 5 rows\n",
        "print(df.head())"
      ],
      "metadata": {
        "id": "u2_llRH_QK7a",
        "execution": {
          "iopub.status.busy": "2024-06-24T22:06:50.681702Z",
          "iopub.execute_input": "2024-06-24T22:06:50.682516Z",
          "iopub.status.idle": "2024-06-24T22:06:50.708972Z",
          "shell.execute_reply.started": "2024-06-24T22:06:50.682485Z",
          "shell.execute_reply": "2024-06-24T22:06:50.707677Z"
        },
        "trusted": true
      },
      "execution_count": null,
      "outputs": []
    },
    {
      "cell_type": "code",
      "source": [
        "# Summary statistics\n",
        "print(df.describe())"
      ],
      "metadata": {
        "id": "MRqpPB1nQjJ4",
        "execution": {
          "iopub.status.busy": "2024-06-24T22:06:50.710687Z",
          "iopub.execute_input": "2024-06-24T22:06:50.7112Z",
          "iopub.status.idle": "2024-06-24T22:06:50.743252Z",
          "shell.execute_reply.started": "2024-06-24T22:06:50.711161Z",
          "shell.execute_reply": "2024-06-24T22:06:50.741936Z"
        },
        "trusted": true
      },
      "execution_count": null,
      "outputs": []
    },
    {
      "cell_type": "code",
      "source": [
        "# Checking  missing values\n",
        "print(df.isnull().sum())"
      ],
      "metadata": {
        "id": "ZjAdoxQWQmuX",
        "execution": {
          "iopub.status.busy": "2024-06-24T22:06:50.745302Z",
          "iopub.execute_input": "2024-06-24T22:06:50.74575Z",
          "iopub.status.idle": "2024-06-24T22:06:50.753878Z",
          "shell.execute_reply.started": "2024-06-24T22:06:50.745713Z",
          "shell.execute_reply": "2024-06-24T22:06:50.752509Z"
        },
        "trusted": true
      },
      "execution_count": null,
      "outputs": []
    },
    {
      "cell_type": "code",
      "source": [
        "# Checking data types\n",
        "print(df.dtypes)"
      ],
      "metadata": {
        "id": "i719lstzQocc",
        "execution": {
          "iopub.status.busy": "2024-06-24T22:06:50.759418Z",
          "iopub.execute_input": "2024-06-24T22:06:50.759872Z",
          "iopub.status.idle": "2024-06-24T22:06:50.767635Z",
          "shell.execute_reply.started": "2024-06-24T22:06:50.759831Z",
          "shell.execute_reply": "2024-06-24T22:06:50.766224Z"
        },
        "trusted": true
      },
      "execution_count": null,
      "outputs": []
    },
    {
      "cell_type": "code",
      "source": [
        "#Prepare 2 scatter plots - sepal_width vs sepal_length and petal_width vs petal_length. Scatter plots should show each class in different color (seaborn.lmplot is recommended for plotting)."
      ],
      "metadata": {
        "id": "2KG4eZgJQ0KN",
        "execution": {
          "iopub.status.busy": "2024-06-24T22:06:50.769331Z",
          "iopub.execute_input": "2024-06-24T22:06:50.770133Z",
          "iopub.status.idle": "2024-06-24T22:06:50.781616Z",
          "shell.execute_reply.started": "2024-06-24T22:06:50.770086Z",
          "shell.execute_reply": "2024-06-24T22:06:50.78043Z"
        },
        "trusted": true
      },
      "execution_count": null,
      "outputs": []
    },
    {
      "cell_type": "code",
      "source": [
        "# Scatter plot - Sepal Width vs Sepal Length\n",
        "sns.lmplot(x='sepal_length', y='sepal_width', data=df, hue='target', fit_reg=False, palette='viridis', markers=['o', 's', 'D'])\n",
        "plt.title('Sepal Width vs Sepal Length')\n",
        "plt.xlabel('Sepal Length (cm)')\n",
        "plt.ylabel('Sepal Width (cm)')\n",
        "plt.show()\n",
        "\n",
        "# Scatter plot - Petal Width vs Petal Length\n",
        "sns.lmplot(x='petal_length', y='petal_width', data=df, hue='target', fit_reg=False, palette='viridis', markers=['o', 's', 'D'])\n",
        "plt.title('Petal Width vs Petal Length')\n",
        "plt.xlabel('Petal Length (cm)')\n",
        "plt.ylabel('Petal Width (cm)')\n",
        "plt.show()\n"
      ],
      "metadata": {
        "id": "CymhdB1KQ2lN",
        "execution": {
          "iopub.status.busy": "2024-06-24T22:06:50.783424Z",
          "iopub.execute_input": "2024-06-24T22:06:50.783896Z",
          "iopub.status.idle": "2024-06-24T22:06:52.23003Z",
          "shell.execute_reply.started": "2024-06-24T22:06:50.783858Z",
          "shell.execute_reply": "2024-06-24T22:06:52.228894Z"
        },
        "trusted": true
      },
      "execution_count": null,
      "outputs": []
    },
    {
      "cell_type": "code",
      "source": [
        "# Prepare the data for classification.\n",
        "#Using the pandas operators prepare the feature variables X and the response Y for the fit. Note that sklean expects data as arrays, so convert extracted columns into arrays."
      ],
      "metadata": {
        "id": "thH7vn0rRW5b",
        "execution": {
          "iopub.status.busy": "2024-06-24T22:06:52.231534Z",
          "iopub.execute_input": "2024-06-24T22:06:52.231915Z",
          "iopub.status.idle": "2024-06-24T22:06:52.236484Z",
          "shell.execute_reply.started": "2024-06-24T22:06:52.231886Z",
          "shell.execute_reply": "2024-06-24T22:06:52.235353Z"
        },
        "trusted": true
      },
      "execution_count": null,
      "outputs": []
    },
    {
      "cell_type": "code",
      "source": [
        "# Feature variables (X)\n",
        "X = df_data.values  # Extract feature columns as arrays\n",
        "\n",
        "# Response variable (Y)\n",
        "Y = df_target.values.ravel()  # Extract target column as array and flatten it\n",
        "\n",
        "# Print shapes of X and Y arrays\n",
        "print(\"Shape of X:\", X.shape)\n",
        "print(\"Shape of Y:\", Y.shape)\n"
      ],
      "metadata": {
        "id": "OB7l4GcXROo2",
        "execution": {
          "iopub.status.busy": "2024-06-24T22:06:52.237865Z",
          "iopub.execute_input": "2024-06-24T22:06:52.238178Z",
          "iopub.status.idle": "2024-06-24T22:06:52.251942Z",
          "shell.execute_reply.started": "2024-06-24T22:06:52.238151Z",
          "shell.execute_reply": "2024-06-24T22:06:52.25059Z"
        },
        "trusted": true
      },
      "execution_count": null,
      "outputs": []
    },
    {
      "cell_type": "code",
      "source": [
        "#Run the fit using KNeighborsClassifier from sklearn.neighbors.\n",
        "\n",
        "#First, instantiate the model,\n",
        "#Then, run the classifier on the training set."
      ],
      "metadata": {
        "id": "Zn9Cbo3fR-nE",
        "execution": {
          "iopub.status.busy": "2024-06-24T22:06:52.253325Z",
          "iopub.execute_input": "2024-06-24T22:06:52.253762Z",
          "iopub.status.idle": "2024-06-24T22:06:52.269864Z",
          "shell.execute_reply.started": "2024-06-24T22:06:52.253731Z",
          "shell.execute_reply": "2024-06-24T22:06:52.268525Z"
        },
        "trusted": true
      },
      "execution_count": null,
      "outputs": []
    },
    {
      "cell_type": "code",
      "source": [
        "# Instantiating the KNeighborsClassifier model\n",
        "knn = KNeighborsClassifier(n_neighbors=3)\n",
        "\n",
        "# Splitting the data into training and testing sets\n",
        "X_train, X_test, Y_train, Y_test = train_test_split(X, Y, test_size=0.2, random_state=42)\n",
        "\n",
        "# Fitting the classifier on the training data\n",
        "knn.fit(X_train, Y_train)\n"
      ],
      "metadata": {
        "id": "KwuRy6T5SGek",
        "execution": {
          "iopub.status.busy": "2024-06-24T22:06:52.27139Z",
          "iopub.execute_input": "2024-06-24T22:06:52.271821Z",
          "iopub.status.idle": "2024-06-24T22:06:52.290671Z",
          "shell.execute_reply.started": "2024-06-24T22:06:52.271776Z",
          "shell.execute_reply": "2024-06-24T22:06:52.28929Z"
        },
        "trusted": true
      },
      "execution_count": null,
      "outputs": []
    },
    {
      "cell_type": "code",
      "source": [
        "#Use learning model to predict the class from features, run prediction on X from test part.\n",
        "\n",
        "#Show the accuracy score of the prediction by comparing predicted iris classes and the Y values from the test.\n",
        "#Comparing these two arrays (predicted classes and test Y), count the numbers of correct predictions and predictions that were wrong. (HINTS: NumPy arrays can be compared using == operator. You can also use NumPy's operator count_nonzero to count number of non-False values)."
      ],
      "metadata": {
        "id": "csMFfj-SSIF7",
        "execution": {
          "iopub.status.busy": "2024-06-24T22:06:52.292101Z",
          "iopub.execute_input": "2024-06-24T22:06:52.29259Z",
          "iopub.status.idle": "2024-06-24T22:06:52.30089Z",
          "shell.execute_reply.started": "2024-06-24T22:06:52.292561Z",
          "shell.execute_reply": "2024-06-24T22:06:52.299668Z"
        },
        "trusted": true
      },
      "execution_count": null,
      "outputs": []
    },
    {
      "cell_type": "code",
      "source": [
        "# Predicting classes from features in the test set\n",
        "Y_pred = knn.predict(X_test)\n",
        "\n",
        "# Calculating accuracy score\n",
        "accuracy = np.count_nonzero(Y_pred == Y_test) / len(Y_test)\n",
        "print(\"Accuracy Score:\", accuracy)\n",
        "\n",
        "# Counting the number of correct and wrong predictions\n",
        "correct_predictions = np.count_nonzero(Y_pred == Y_test)\n",
        "wrong_predictions = len(Y_test) - correct_predictions\n",
        "print(\"Number of Correct Predictions:\", correct_predictions)\n",
        "print(\"Number of Wrong Predictions:\", wrong_predictions)\n"
      ],
      "metadata": {
        "id": "-Zk80RweSRXx",
        "execution": {
          "iopub.status.busy": "2024-06-24T22:06:52.303052Z",
          "iopub.execute_input": "2024-06-24T22:06:52.303465Z",
          "iopub.status.idle": "2024-06-24T22:06:52.321292Z",
          "shell.execute_reply.started": "2024-06-24T22:06:52.303426Z",
          "shell.execute_reply": "2024-06-24T22:06:52.319948Z"
        },
        "trusted": true
      },
      "execution_count": null,
      "outputs": []
    },
    {
      "cell_type": "code",
      "source": [
        "#In this task, we want to see how accuracy score and the number of correct predictions change with the number of neighbors k. We will use the following number of neighbors k: 1, 3, 5, 7, 10, 20, 30, 40, and 50:\n",
        "\n",
        "#Generate 10 random train/test splits for each value of k\n",
        "#Fit the model for each split and generate predictions\n",
        "#Average the accuracy score for each k\n",
        "#Calculate the average number of correct predictions for each k as well\n",
        "#Plot the accuracy score for different values of k. What conclusion can you make based on the graph?"
      ],
      "metadata": {
        "id": "Y-b4LteZSYqA",
        "execution": {
          "iopub.status.busy": "2024-06-24T22:06:52.322804Z",
          "iopub.execute_input": "2024-06-24T22:06:52.323222Z",
          "iopub.status.idle": "2024-06-24T22:06:52.329591Z",
          "shell.execute_reply.started": "2024-06-24T22:06:52.323184Z",
          "shell.execute_reply": "2024-06-24T22:06:52.328177Z"
        },
        "trusted": true
      },
      "execution_count": null,
      "outputs": []
    },
    {
      "cell_type": "code",
      "source": [
        "from sklearn.metrics import accuracy_score\n",
        "\n",
        "# Defining the values of k\n",
        "k_values = [1, 3, 5, 7, 10, 20, 30, 40, 50]\n",
        "\n",
        "# Initializing lists to store average accuracy and number of correct predictions for each k\n",
        "avg_accuracy = []\n",
        "avg_correct_predictions = []\n",
        "\n",
        "# Iterating over each value of k\n",
        "for k in k_values:\n",
        "    accuracy_scores = []\n",
        "    correct_predictions = []\n",
        "\n",
        "    # Repeating the process for 10 random train/test splits\n",
        "    for x in range(10):\n",
        "        # Split the data into training and testing sets\n",
        "        X_train, X_test, Y_train, Y_test = train_test_split(X, Y, test_size=0.2, random_state=None)\n",
        "\n",
        "        # Instantiating the KNeighborsClassifier model\n",
        "        knn = KNeighborsClassifier(n_neighbors=k)\n",
        "\n",
        "        # Fitting the model on the training data\n",
        "        knn.fit(X_train, Y_train)\n",
        "\n",
        "        # Predicting classes from features in the test set\n",
        "        Y_pred = knn.predict(X_test)\n",
        "\n",
        "        # Calculating accuracy score\n",
        "        accuracy = accuracy_score(Y_test, Y_pred)\n",
        "        accuracy_scores.append(accuracy)\n",
        "\n",
        "        # Counting the number of correct predictions\n",
        "        correct = np.count_nonzero(Y_pred == Y_test)\n",
        "        correct_predictions.append(correct)\n",
        "\n",
        "    # Calculating average accuracy and average number of correct predictions for the current value of k\n",
        "    avg_accuracy.append(np.mean(accuracy_scores))\n",
        "    avg_correct_predictions.append(np.mean(correct_predictions))\n",
        "\n",
        "# Plotting the accuracy score for different values of k\n",
        "plt.figure(figsize=(10, 6))\n",
        "plt.plot(k_values, avg_accuracy, marker='o', linestyle='-')\n",
        "plt.title('Average Accuracy Score for Different Values of k')\n",
        "plt.xlabel('Number of Neighbors (k)')\n",
        "plt.ylabel('Average Accuracy Score')\n",
        "plt.grid(True)\n",
        "plt.show()\n"
      ],
      "metadata": {
        "id": "BNmmUG2sSs_B",
        "execution": {
          "iopub.status.busy": "2024-06-24T22:06:52.331357Z",
          "iopub.execute_input": "2024-06-24T22:06:52.331818Z",
          "iopub.status.idle": "2024-06-24T22:06:53.081068Z",
          "shell.execute_reply.started": "2024-06-24T22:06:52.331779Z",
          "shell.execute_reply": "2024-06-24T22:06:53.079835Z"
        },
        "trusted": true
      },
      "execution_count": null,
      "outputs": []
    },
    {
      "cell_type": "code",
      "source": [
        "\"\"\"\n",
        "Based on the graph showing the average accuracy score for different values of k in the KNN classifier, we can draw several conclusions:\n",
        "\n",
        "1. Impact of k on Accuracy: The graph illustrates how the choice of the number of neighbors (k) affects the model's performance. Generally, we observe a trend where the accuracy score tends to change with different values of k.\n",
        "\n",
        "2. Optimal k: There appears to be an optimal value of k that maximizes the average accuracy score. In the graph, this is the point where the accuracy score peaks (5 - 10) before decreasing (after 10). It suggests that selecting an appropriate value for k is crucial for achieving the best classification performance.\n",
        "\n",
        "3. Bias-Variance Tradeoff: The relationship between k and accuracy reflects the tradeoff between bias and variance in the model. Lower values of k (e.g., k=1) tend to have higher variance and lower bias, resulting in potentially overfitting the training data. On the other hand, larger values of k (e.g., k=50) lead to higher bias and lower variance, potentially resulting in underfitting.\n",
        "\n",
        "4. Model Robustness: The consistency of accuracy scores across different values of k indicates the robustness of the KNN model. If the accuracy scores vary significantly with changes in k, it suggests that the model's performance is sensitive to the choice of hyperparameter.\n",
        "\n",
        "Overall, the graph provides valuable insights into the performance of the KNN classifier and guides the selection of an appropriate value for k to achieve the best classification accuracy.\n",
        "\"\"\"\n"
      ],
      "metadata": {
        "id": "wrWGVXCpWBnz",
        "tags": [],
        "execution": {
          "iopub.status.busy": "2024-06-24T22:06:53.082501Z",
          "iopub.execute_input": "2024-06-24T22:06:53.082894Z",
          "iopub.status.idle": "2024-06-24T22:06:53.091851Z",
          "shell.execute_reply.started": "2024-06-24T22:06:53.082844Z",
          "shell.execute_reply": "2024-06-24T22:06:53.090813Z"
        },
        "trusted": true
      },
      "execution_count": null,
      "outputs": []
    }
  ]
}