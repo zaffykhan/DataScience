{
  "nbformat": 4,
  "nbformat_minor": 0,
  "metadata": {
    "colab": {
      "provenance": [],
      "authorship_tag": "ABX9TyNLHo6JB60yb4BTt+RsSMRz",
      "include_colab_link": true
    },
    "kernelspec": {
      "name": "python3",
      "display_name": "Python 3"
    },
    "language_info": {
      "name": "python"
    }
  },
  "cells": [
    {
      "cell_type": "markdown",
      "metadata": {
        "id": "view-in-github",
        "colab_type": "text"
      },
      "source": [
        "<a href=\"https://colab.research.google.com/github/zaffykhan/DataScience/blob/main/MontyHallSimulation.ipynb\" target=\"_parent\"><img src=\"https://colab.research.google.com/assets/colab-badge.svg\" alt=\"Open In Colab\"/></a>"
      ]
    },
    {
      "cell_type": "code",
      "source": [
        "import random"
      ],
      "metadata": {
        "id": "MLx6zTsy3UIu"
      },
      "execution_count": null,
      "outputs": []
    },
    {
      "cell_type": "code",
      "source": [
        "# Defining the function for Monty Hall Simulation\n",
        "def monty_hall_simulation(num_trials):\n",
        "    stay_wins = 0\n",
        "    switch_wins = 0\n",
        "\n",
        "    for _ in range(num_trials):\n",
        "        # Randomly placing the car behind one of the three doors\n",
        "        doors = ['goat', 'goat', 'goat']\n",
        "        car_position = random.randint(0, 2)\n",
        "        doors[car_position] = 'car'\n",
        "\n",
        "        # Making an initial choice\n",
        "        initial_choice = random.randint(0, 2)\n",
        "\n",
        "        # Revealing Goat\n",
        "        remaining_doors = [i for i in range(3) if i != initial_choice and doors[i] == 'goat']\n",
        "        host_opens = random.choice(remaining_doors)\n",
        "\n",
        "        # Making decision to switch doors\n",
        "        #Staying with the initial choice\n",
        "        if doors[initial_choice] == 'car':\n",
        "            stay_wins += 1\n",
        "\n",
        "        # Switching the door\n",
        "        switch_choice = [i for i in range(3) if i != initial_choice and i != host_opens][0]\n",
        "        if doors[switch_choice] == 'car':\n",
        "            switch_wins += 1\n",
        "\n",
        "    return stay_wins, switch_wins\n"
      ],
      "metadata": {
        "id": "K5WFEcAA3vr_"
      },
      "execution_count": null,
      "outputs": []
    },
    {
      "cell_type": "code",
      "execution_count": null,
      "metadata": {
        "id": "PPZW_M2t21En"
      },
      "outputs": [],
      "source": [
        "# Runing the simulation for 1000 trials\n",
        "num_trials = 1000\n",
        "stay_wins, switch_wins = monty_hall_simulation(num_trials)\n",
        "\n",
        "\n"
      ]
    },
    {
      "cell_type": "code",
      "source": [
        "# Printing the results\n",
        "print(f\"Out of {num_trials} trials:\")\n",
        "print(f\"Number of wins when staying with the initial choice: {stay_wins} ({stay_wins/num_trials*100:.2f}%)\")\n",
        "print(f\"Number of wins when switching to the other door: {switch_wins} ({switch_wins/num_trials*100:.2f}%)\")"
      ],
      "metadata": {
        "colab": {
          "base_uri": "https://localhost:8080/"
        },
        "id": "PkpQ42G030Jy",
        "outputId": "74313ba4-50aa-41a0-b8f4-c28a5fadd11f"
      },
      "execution_count": null,
      "outputs": [
        {
          "output_type": "stream",
          "name": "stdout",
          "text": [
            "Out of 1000 trials:\n",
            "Number of wins when staying with the initial choice: 340 (34.00%)\n",
            "Number of wins when switching to the other door: 660 (66.00%)\n"
          ]
        }
      ]
    }
  ]
}