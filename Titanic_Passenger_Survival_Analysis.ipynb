{
  "cells": [
    {
      "cell_type": "markdown",
      "metadata": {
        "id": "view-in-github",
        "colab_type": "text"
      },
      "source": [
        "<a href=\"https://colab.research.google.com/github/zaffykhan/DataScience/blob/main/Titanic_Passenger_Survival_Analysis.ipynb\" target=\"_parent\"><img src=\"https://colab.research.google.com/assets/colab-badge.svg\" alt=\"Open In Colab\"/></a>"
      ]
    },
    {
      "cell_type": "markdown",
      "metadata": {
        "id": "6EAce_58vAqL"
      },
      "source": [
        "Before you turn this problem in, make sure everything runs as expected. First, **restart the kernel** (in the menu bar, select Kernel$\\rightarrow$Restart) and then **run all cells** (in the menu bar, select Cell$\\rightarrow$Run All).\n",
        "\n",
        "Make sure that in addition to the code, you provide written answers for all questions of the assignment.\n",
        "\n",
        "Below, please fill in your name and collaborators:"
      ]
    },
    {
      "cell_type": "code",
      "execution_count": null,
      "metadata": {
        "id": "RXiwSywfvAqN"
      },
      "outputs": [],
      "source": [
        "NAME = \"Muneeb Zafar Khan\""
      ]
    },
    {
      "cell_type": "markdown",
      "metadata": {
        "id": "xKEWnNSmvAqN"
      },
      "source": [
        "## Assignment 2 - Data Analysis using Pandas\n",
        "**(15 points total)**"
      ]
    },
    {
      "cell_type": "markdown",
      "metadata": {
        "id": "DdYMLZkkvAqO"
      },
      "source": [
        "For this assignment, we will analyze the open dataset with data on the passengers aboard the Titanic.\n",
        "\n",
        "The data file for this assignment can be downloaded from Kaggle website: https://www.kaggle.com/c/titanic/data, file `train.csv`. It is also attached to the assignment page. The definition of all variables can be found on the same Kaggle page, in the Data Dictionary section.\n",
        "\n",
        "Read the data from the file into pandas DataFrame. Analyze, clean and transform the data to answer the following question:\n",
        "\n",
        "**What categories of passengers were most likely to survive the Titanic disaster?**"
      ]
    },
    {
      "cell_type": "code",
      "execution_count": null,
      "metadata": {
        "id": "qCWcO0YvvAqO"
      },
      "outputs": [],
      "source": [
        "\"\"\"342 passengers suvived the Titanic crash which is 38.38 percent of passengers on board. Higher sibling count did not correlate to higher chances of survival as evidenced by data. Infact lower sibling count ensured higher chances of survival. Higher family count did not correlate to higher chances of survival as evidenced by data. Infact lower family count ensured higher chances of survival. Based on data, it can also be assumed that there were not many big families onboard the ship. Hence the low rescue numbers of big familiesPassengers traveling in the First Class cabins had higher chances of survival. Smaller family size 0, 1 and 2 and members in the upper class had higher chances of survival as evidenced by data.Females in first class were prioritized in the rescue mission while those in 2 and 3 class were given second priority. Men traveling in 2nd class were given least priority in the rescue missions. 217 passengers that survived embarked at location S which constituted 63.45 of total passengers 140 of whom were females. 61 children were rescued in the mission, which is 17.84 percent of total survivors.\"\"\""
      ]
    },
    {
      "cell_type": "markdown",
      "metadata": {
        "id": "_AChCeqDvAqO"
      },
      "source": [
        "**Question 1.**  _(4 points)_\n",
        "* The answer to the main question - What categories of passengers were most likely to survive the Titanic disaster? _(2 points)_\n",
        "* The detailed explanation of the logic of the analysis _(2 points)_\n",
        "\n",
        "The categories of passengers most likely to survive the Titanic disaster were:\n",
        "\n",
        "Gender: Females were more likely to survive compared to males.\n",
        "Class: Passengers in higher classes (1st class) had a higher chance of survival than those in lower classes.\n",
        "Age: Children had a higher survival rate compared to adults.\n",
        "Family Size: Passengers with smaller family sizes (0-2) were more likely to survive.\n",
        "Embarked Location: Passengers embarked at certain locations had higher survival rates than others.\n",
        "Explanation:\n",
        "\n",
        "Gender: The analysis showed that females had a significantly higher survival rate compared to males. This is likely due to the \"women and children first\" protocol followed during the evacuation.\n",
        "Class: Passengers in higher classes had access to better accommodations and were possibly given priority during the evacuation process.\n",
        "Age: Children were given priority during the evacuation, resulting in a higher survival rate for this age group.\n",
        "Family Size: Smaller families may have been able to evacuate more efficiently or may have received priority during the rescue efforts.\n",
        "Embarked Location: There might be variations in the demographics of passengers embarking from different locations, affecting their chances of survival.\n",
        "\n",
        "\n",
        "**Question 2.**  _(3 points)_\n",
        "* What other attributes did you use for the analysis? Explain how you used them and why you decided to use them.\n",
        "* Provide a complete list of all attributes used.\n",
        "\n",
        "Attributes used for the analysis:\n",
        "\n",
        "Survived: To determine survival rates.\n",
        "Sex: To analyze survival rates based on gender.\n",
        "Pclass (Passenger Class): To analyze survival rates based on class.\n",
        "Age: To analyze survival rates based on age.\n",
        "SibSp (Number of Siblings/Spouses Aboard): To analyze survival rates based on family size.\n",
        "Embarked: To analyze survival rates based on embarked location.\n",
        "I decided to use these attributes because they are relevant to understanding the demographics and circumstances of the passengers aboard the Titanic and how these factors may have influenced their likelihood of survival.\n",
        "\n",
        "\n",
        "\n",
        "**Question 3.**  _(3 points)_\n",
        "* Did you engineer any attributes (created new attributes)? If yes, explain the rationale and how the new attributes were used in the analysis?\n",
        "* If you have excluded any attributes from the analysis, provide an explanation why you believe they can be excluded.\n",
        "\n",
        "Question 3:\n",
        "\n",
        "I engineered one attribute:\n",
        "\n",
        "FamilySize: Created by summing the columns SibSp and Parch. This attribute was used to analyze survival rates based on family size. Smaller family sizes may have had better chances of survival due to easier coordination during evacuation.\n",
        "I did not exclude any attributes from the analysis as each attribute provides valuable insight into different aspects that may have influenced survival rates.\n",
        "\n",
        "\n",
        "\n",
        "**Question 4.**  _(5 points)_\n",
        "* How did you treat missing values for those attributes that you included in the analysis (for example, `age` attribute)? Provide a detailed explanation in the comments.\n",
        "\n",
        "For the Age attribute:\n",
        "\n",
        "Missing age values were filled using the median age of passengers grouped by gender. This approach helps preserve the distribution of ages within each gender category while providing a reasonable estimate for missing values.\n",
        "The rationale behind using the median age of passengers grouped by gender is that age may correlate with survival rates, and using the median ensures that the imputed values are representative of the age distribution within each gender category. This approach avoids biases introduced by using a single overall median age for all passengers."
      ]
    },
    {
      "cell_type": "code",
      "execution_count": null,
      "metadata": {
        "id": "fUvZ3pYEvAqP"
      },
      "outputs": [],
      "source": [
        "import numpy as np\n",
        "import pandas as pd"
      ]
    },
    {
      "cell_type": "code",
      "execution_count": null,
      "metadata": {
        "id": "rZ97iQBXvAqP",
        "outputId": "5e0cc90c-b932-4dea-ba1e-a15e80212a6e"
      },
      "outputs": [
        {
          "data": {
            "text/html": [
              "<div>\n",
              "<style scoped>\n",
              "    .dataframe tbody tr th:only-of-type {\n",
              "        vertical-align: middle;\n",
              "    }\n",
              "\n",
              "    .dataframe tbody tr th {\n",
              "        vertical-align: top;\n",
              "    }\n",
              "\n",
              "    .dataframe thead th {\n",
              "        text-align: right;\n",
              "    }\n",
              "</style>\n",
              "<table border=\"1\" class=\"dataframe\">\n",
              "  <thead>\n",
              "    <tr style=\"text-align: right;\">\n",
              "      <th></th>\n",
              "      <th>Survived</th>\n",
              "      <th>Pclass</th>\n",
              "      <th>Name</th>\n",
              "      <th>Sex</th>\n",
              "      <th>Age</th>\n",
              "      <th>SibSp</th>\n",
              "      <th>Parch</th>\n",
              "      <th>Ticket</th>\n",
              "      <th>Fare</th>\n",
              "      <th>Cabin</th>\n",
              "      <th>Embarked</th>\n",
              "    </tr>\n",
              "    <tr>\n",
              "      <th>PassengerId</th>\n",
              "      <th></th>\n",
              "      <th></th>\n",
              "      <th></th>\n",
              "      <th></th>\n",
              "      <th></th>\n",
              "      <th></th>\n",
              "      <th></th>\n",
              "      <th></th>\n",
              "      <th></th>\n",
              "      <th></th>\n",
              "      <th></th>\n",
              "    </tr>\n",
              "  </thead>\n",
              "  <tbody>\n",
              "    <tr>\n",
              "      <th>1</th>\n",
              "      <td>0</td>\n",
              "      <td>3</td>\n",
              "      <td>Braund, Mr. Owen Harris</td>\n",
              "      <td>male</td>\n",
              "      <td>22.0</td>\n",
              "      <td>1</td>\n",
              "      <td>0</td>\n",
              "      <td>A/5 21171</td>\n",
              "      <td>7.2500</td>\n",
              "      <td>NaN</td>\n",
              "      <td>S</td>\n",
              "    </tr>\n",
              "    <tr>\n",
              "      <th>2</th>\n",
              "      <td>1</td>\n",
              "      <td>1</td>\n",
              "      <td>Cumings, Mrs. John Bradley (Florence Briggs Th...</td>\n",
              "      <td>female</td>\n",
              "      <td>38.0</td>\n",
              "      <td>1</td>\n",
              "      <td>0</td>\n",
              "      <td>PC 17599</td>\n",
              "      <td>71.2833</td>\n",
              "      <td>C85</td>\n",
              "      <td>C</td>\n",
              "    </tr>\n",
              "    <tr>\n",
              "      <th>3</th>\n",
              "      <td>1</td>\n",
              "      <td>3</td>\n",
              "      <td>Heikkinen, Miss. Laina</td>\n",
              "      <td>female</td>\n",
              "      <td>26.0</td>\n",
              "      <td>0</td>\n",
              "      <td>0</td>\n",
              "      <td>STON/O2. 3101282</td>\n",
              "      <td>7.9250</td>\n",
              "      <td>NaN</td>\n",
              "      <td>S</td>\n",
              "    </tr>\n",
              "    <tr>\n",
              "      <th>4</th>\n",
              "      <td>1</td>\n",
              "      <td>1</td>\n",
              "      <td>Futrelle, Mrs. Jacques Heath (Lily May Peel)</td>\n",
              "      <td>female</td>\n",
              "      <td>35.0</td>\n",
              "      <td>1</td>\n",
              "      <td>0</td>\n",
              "      <td>113803</td>\n",
              "      <td>53.1000</td>\n",
              "      <td>C123</td>\n",
              "      <td>S</td>\n",
              "    </tr>\n",
              "    <tr>\n",
              "      <th>5</th>\n",
              "      <td>0</td>\n",
              "      <td>3</td>\n",
              "      <td>Allen, Mr. William Henry</td>\n",
              "      <td>male</td>\n",
              "      <td>35.0</td>\n",
              "      <td>0</td>\n",
              "      <td>0</td>\n",
              "      <td>373450</td>\n",
              "      <td>8.0500</td>\n",
              "      <td>NaN</td>\n",
              "      <td>S</td>\n",
              "    </tr>\n",
              "  </tbody>\n",
              "</table>\n",
              "</div>"
            ],
            "text/plain": [
              "             Survived  Pclass  \\\n",
              "PassengerId                     \n",
              "1                   0       3   \n",
              "2                   1       1   \n",
              "3                   1       3   \n",
              "4                   1       1   \n",
              "5                   0       3   \n",
              "\n",
              "                                                          Name     Sex   Age  \\\n",
              "PassengerId                                                                    \n",
              "1                                      Braund, Mr. Owen Harris    male  22.0   \n",
              "2            Cumings, Mrs. John Bradley (Florence Briggs Th...  female  38.0   \n",
              "3                                       Heikkinen, Miss. Laina  female  26.0   \n",
              "4                 Futrelle, Mrs. Jacques Heath (Lily May Peel)  female  35.0   \n",
              "5                                     Allen, Mr. William Henry    male  35.0   \n",
              "\n",
              "             SibSp  Parch            Ticket     Fare Cabin Embarked  \n",
              "PassengerId                                                          \n",
              "1                1      0         A/5 21171   7.2500   NaN        S  \n",
              "2                1      0          PC 17599  71.2833   C85        C  \n",
              "3                0      0  STON/O2. 3101282   7.9250   NaN        S  \n",
              "4                1      0            113803  53.1000  C123        S  \n",
              "5                0      0            373450   8.0500   NaN        S  "
            ]
          },
          "execution_count": 116,
          "metadata": {},
          "output_type": "execute_result"
        }
      ],
      "source": [
        "#importing Titanic Data\n",
        "titanic = pd.read_csv('train.csv',\n",
        "                      sep=',', # separating using commas\n",
        "                      index_col = 'PassengerId') #using passengerID column as the index\n",
        "\n",
        "titanic.head()"
      ]
    },
    {
      "cell_type": "code",
      "execution_count": null,
      "metadata": {
        "id": "joNc_KtwvAqQ",
        "outputId": "b48f6b52-e889-45bb-b3b1-d48cdbcfa9da"
      },
      "outputs": [
        {
          "name": "stdout",
          "output_type": "stream",
          "text": [
            "<class 'pandas.core.frame.DataFrame'>\n",
            "Index: 891 entries, 1 to 891\n",
            "Data columns (total 11 columns):\n",
            " #   Column    Non-Null Count  Dtype  \n",
            "---  ------    --------------  -----  \n",
            " 0   Survived  891 non-null    int64  \n",
            " 1   Pclass    891 non-null    int64  \n",
            " 2   Name      891 non-null    object \n",
            " 3   Sex       891 non-null    object \n",
            " 4   Age       714 non-null    float64\n",
            " 5   SibSp     891 non-null    int64  \n",
            " 6   Parch     891 non-null    int64  \n",
            " 7   Ticket    891 non-null    object \n",
            " 8   Fare      891 non-null    float64\n",
            " 9   Cabin     204 non-null    object \n",
            " 10  Embarked  889 non-null    object \n",
            "dtypes: float64(2), int64(4), object(5)\n",
            "memory usage: 83.5+ KB\n"
          ]
        }
      ],
      "source": [
        "titanic.info()"
      ]
    },
    {
      "cell_type": "code",
      "execution_count": null,
      "metadata": {
        "id": "ICDNZUJivAqQ",
        "outputId": "ae6eb7c3-b853-400d-c694-4fd3a01c5ab4"
      },
      "outputs": [
        {
          "data": {
            "text/plain": [
              "Index(['Survived', 'Pclass', 'Name', 'Sex', 'Age', 'SibSp', 'Parch', 'Ticket',\n",
              "       'Fare', 'Cabin', 'Embarked'],\n",
              "      dtype='object')"
            ]
          },
          "execution_count": 118,
          "metadata": {},
          "output_type": "execute_result"
        }
      ],
      "source": [
        "titanic.columns"
      ]
    },
    {
      "cell_type": "code",
      "execution_count": null,
      "metadata": {
        "id": "9EYEWejcvAqQ",
        "outputId": "3d110fd2-6573-4161-c977-e4f681c0d4a8"
      },
      "outputs": [
        {
          "data": {
            "text/plain": [
              "Survived      0\n",
              "Pclass        0\n",
              "Name          0\n",
              "Sex           0\n",
              "Age         177\n",
              "SibSp         0\n",
              "Parch         0\n",
              "Ticket        0\n",
              "Fare          0\n",
              "Cabin       687\n",
              "Embarked      2\n",
              "dtype: int64"
            ]
          },
          "execution_count": 119,
          "metadata": {},
          "output_type": "execute_result"
        }
      ],
      "source": [
        "titanic.isnull().sum()"
      ]
    },
    {
      "cell_type": "code",
      "execution_count": null,
      "metadata": {
        "id": "TRo-vu6UvAqQ",
        "outputId": "c6eb49f2-477a-47fe-e03d-b88b16033c74"
      },
      "outputs": [
        {
          "data": {
            "text/plain": [
              "177"
            ]
          },
          "execution_count": 120,
          "metadata": {},
          "output_type": "execute_result"
        }
      ],
      "source": [
        "# Checking the number of missing values in Age Column\n",
        "titanic['Age'].isnull().sum()"
      ]
    },
    {
      "cell_type": "code",
      "execution_count": null,
      "metadata": {
        "id": "HByCMivGvAqQ"
      },
      "outputs": [],
      "source": [
        "# calculating the median age based on gender and filling the missing values\n",
        "titanic[\"Age\"].fillna(titanic.groupby(\"Sex\")[\"Age\"].transform(\"median\"), inplace=True)"
      ]
    },
    {
      "cell_type": "code",
      "execution_count": null,
      "metadata": {
        "tags": [],
        "id": "J5vDpc6cvAqR",
        "outputId": "fd9cd503-fcbe-4b4c-b3d9-d7a2f4f795ee"
      },
      "outputs": [
        {
          "data": {
            "text/html": [
              "<div>\n",
              "<style scoped>\n",
              "    .dataframe tbody tr th:only-of-type {\n",
              "        vertical-align: middle;\n",
              "    }\n",
              "\n",
              "    .dataframe tbody tr th {\n",
              "        vertical-align: top;\n",
              "    }\n",
              "\n",
              "    .dataframe thead th {\n",
              "        text-align: right;\n",
              "    }\n",
              "</style>\n",
              "<table border=\"1\" class=\"dataframe\">\n",
              "  <thead>\n",
              "    <tr style=\"text-align: right;\">\n",
              "      <th></th>\n",
              "      <th>mean</th>\n",
              "      <th>median</th>\n",
              "    </tr>\n",
              "    <tr>\n",
              "      <th>Sex</th>\n",
              "      <th></th>\n",
              "      <th></th>\n",
              "    </tr>\n",
              "  </thead>\n",
              "  <tbody>\n",
              "    <tr>\n",
              "      <th>female</th>\n",
              "      <td>27.761146</td>\n",
              "      <td>27.0</td>\n",
              "    </tr>\n",
              "    <tr>\n",
              "      <th>male</th>\n",
              "      <td>30.355581</td>\n",
              "      <td>29.0</td>\n",
              "    </tr>\n",
              "  </tbody>\n",
              "</table>\n",
              "</div>"
            ],
            "text/plain": [
              "             mean  median\n",
              "Sex                      \n",
              "female  27.761146    27.0\n",
              "male    30.355581    29.0"
            ]
          },
          "execution_count": 122,
          "metadata": {},
          "output_type": "execute_result"
        }
      ],
      "source": [
        "titanic.groupby(\"Sex\")['Age'].agg(['mean', 'median'])"
      ]
    },
    {
      "cell_type": "code",
      "execution_count": null,
      "metadata": {
        "tags": [],
        "id": "F_EzZuOVvAqR",
        "outputId": "81233ef8-a20a-4be4-9240-24d876bced84"
      },
      "outputs": [
        {
          "data": {
            "text/plain": [
              "0"
            ]
          },
          "execution_count": 123,
          "metadata": {},
          "output_type": "execute_result"
        }
      ],
      "source": [
        "#Checking if there are any null values\n",
        "titanic['Age'].isnull().sum()"
      ]
    },
    {
      "cell_type": "code",
      "execution_count": null,
      "metadata": {
        "tags": [],
        "id": "AMRuqJB3vAqR",
        "outputId": "5d07d4d9-a7e8-4bf5-f8c6-1c95bc091be4"
      },
      "outputs": [
        {
          "data": {
            "text/plain": [
              "29.441268237934903"
            ]
          },
          "execution_count": 124,
          "metadata": {},
          "output_type": "execute_result"
        }
      ],
      "source": [
        "titanic['Age'].mean()"
      ]
    },
    {
      "cell_type": "code",
      "execution_count": null,
      "metadata": {
        "tags": [],
        "id": "ls9Hi5bNvAqR",
        "outputId": "b3f1f1ed-eb85-4f1e-c860-229eda636206"
      },
      "outputs": [
        {
          "data": {
            "text/plain": [
              "29.0"
            ]
          },
          "execution_count": 125,
          "metadata": {},
          "output_type": "execute_result"
        }
      ],
      "source": [
        "titanic['Age'].median()"
      ]
    },
    {
      "cell_type": "code",
      "execution_count": null,
      "metadata": {
        "tags": [],
        "id": "hYGNgEMHvAqR",
        "outputId": "5d96b9d3-3131-442e-e8ab-cdf1ff3cb43b"
      },
      "outputs": [
        {
          "data": {
            "text/plain": [
              "29.0"
            ]
          },
          "execution_count": 126,
          "metadata": {},
          "output_type": "execute_result"
        }
      ],
      "source": [
        "titanic['Age'].median()"
      ]
    },
    {
      "cell_type": "code",
      "execution_count": null,
      "metadata": {
        "tags": [],
        "id": "ah2uI0SdvAqR"
      },
      "outputs": [],
      "source": [
        "# checking total passengers onboard and how many survived and how many persihed"
      ]
    },
    {
      "cell_type": "code",
      "execution_count": null,
      "metadata": {
        "tags": [],
        "id": "Ra3rvmV1vAqR",
        "outputId": "d425d4d3-5fd8-49cb-f9a7-dd715592ef61"
      },
      "outputs": [
        {
          "data": {
            "text/plain": [
              "Survived\n",
              "0    549\n",
              "1    342\n",
              "Name: count, dtype: int64"
            ]
          },
          "execution_count": 127,
          "metadata": {},
          "output_type": "execute_result"
        }
      ],
      "source": [
        "survived_persished_counts = titanic['Survived'].value_counts()\n",
        "survived_persished_counts"
      ]
    },
    {
      "cell_type": "code",
      "execution_count": null,
      "metadata": {
        "tags": [],
        "id": "MibvQ9VtvAqR",
        "outputId": "48c374b3-7946-4b21-ab86-52c6e0044142"
      },
      "outputs": [
        {
          "data": {
            "text/plain": [
              "342"
            ]
          },
          "execution_count": 128,
          "metadata": {},
          "output_type": "execute_result"
        }
      ],
      "source": [
        "passengers_survived = survived_persished_counts[1]\n",
        "passengers_survived"
      ]
    },
    {
      "cell_type": "code",
      "execution_count": null,
      "metadata": {
        "tags": [],
        "id": "PRsXfM6jvAqS",
        "outputId": "c91144c6-23d6-41ec-bf4e-e3b08f556240"
      },
      "outputs": [
        {
          "data": {
            "text/plain": [
              "549"
            ]
          },
          "execution_count": 129,
          "metadata": {},
          "output_type": "execute_result"
        }
      ],
      "source": [
        "passengers_perished = survived_persished_counts[0]\n",
        "passengers_perished"
      ]
    },
    {
      "cell_type": "code",
      "execution_count": null,
      "metadata": {
        "tags": [],
        "id": "6ip8HMDsvAqS",
        "outputId": "2ff73bc1-9ffc-4264-a9bf-283003b54124"
      },
      "outputs": [
        {
          "data": {
            "text/plain": [
              "891"
            ]
          },
          "execution_count": 130,
          "metadata": {},
          "output_type": "execute_result"
        }
      ],
      "source": [
        "total_passengers = survived_persished_counts.sum()\n",
        "total_passengers"
      ]
    },
    {
      "cell_type": "code",
      "execution_count": null,
      "metadata": {
        "tags": [],
        "id": "kaqoNkanvAqS",
        "outputId": "f3ef39d7-613b-4c9e-db5d-6a86f18dfc02"
      },
      "outputs": [
        {
          "data": {
            "text/plain": [
              "38.38"
            ]
          },
          "execution_count": 131,
          "metadata": {},
          "output_type": "execute_result"
        }
      ],
      "source": [
        "percent_survived = round((passengers_survived * 100) / total_passengers, 2)\n",
        "percent_survived"
      ]
    },
    {
      "cell_type": "code",
      "execution_count": null,
      "metadata": {
        "tags": [],
        "id": "vq3pJLRIvAqS",
        "outputId": "ed603043-f18e-4ec6-f5c8-4f761d9e26ac"
      },
      "outputs": [
        {
          "data": {
            "text/plain": [
              "61.62"
            ]
          },
          "execution_count": 132,
          "metadata": {},
          "output_type": "execute_result"
        }
      ],
      "source": [
        "percent_perished = round(passengers_perished*100 / total_passengers, 2)\n",
        "percent_perished"
      ]
    },
    {
      "cell_type": "code",
      "execution_count": null,
      "metadata": {
        "tags": [],
        "id": "DoGCIIy7vAqS",
        "outputId": "641473ae-9988-4f51-b156-326834602f33"
      },
      "outputs": [
        {
          "name": "stdout",
          "output_type": "stream",
          "text": [
            "342 passengers suvived the Titanic crash which is 38.38 percent of passengers on board. \n"
          ]
        }
      ],
      "source": [
        "survived_passengers = str(passengers_survived) + \" passengers suvived the Titanic crash which is \"+ str(percent_survived) + \" percent of passengers on board. \"\n",
        "print(survived_passengers)"
      ]
    },
    {
      "cell_type": "code",
      "execution_count": null,
      "metadata": {
        "tags": [],
        "id": "O8feUFXXvAqS",
        "outputId": "d6f7d1fa-1c42-40d0-f067-fe99500782cb"
      },
      "outputs": [
        {
          "name": "stdout",
          "output_type": "stream",
          "text": [
            "Sex     Survived\n",
            "female  1           233\n",
            "        0            81\n",
            "male    0           468\n",
            "        1           109\n",
            "Name: count, dtype: int64\n"
          ]
        }
      ],
      "source": [
        "#survival rates based on gender\n",
        "print(titanic.groupby([\"Sex\"])[\"Survived\"].value_counts())"
      ]
    },
    {
      "cell_type": "code",
      "execution_count": null,
      "metadata": {
        "tags": [],
        "id": "8N47andDvAqS",
        "outputId": "4d5b5fd6-8d00-4811-fc5c-e1b86270c8f5"
      },
      "outputs": [
        {
          "data": {
            "text/plain": [
              "Sex\n",
              "female    233\n",
              "male      109\n",
              "Name: Survived, dtype: int64"
            ]
          },
          "execution_count": 135,
          "metadata": {},
          "output_type": "execute_result"
        }
      ],
      "source": [
        "survived_by_gender = titanic.groupby([\"Sex\"])[\"Survived\"].sum()\n",
        "survived_by_gender"
      ]
    },
    {
      "cell_type": "code",
      "execution_count": null,
      "metadata": {
        "tags": [],
        "id": "blBArQ8jvAqS",
        "outputId": "e4077637-ec73-4d60-e506-903c824e16b7"
      },
      "outputs": [
        {
          "data": {
            "text/plain": [
              "68.13"
            ]
          },
          "execution_count": 136,
          "metadata": {},
          "output_type": "execute_result"
        }
      ],
      "source": [
        "percent_female_survival = round(survived_by_gender[0]*100/passengers_survived,2)\n",
        "percent_female_survival"
      ]
    },
    {
      "cell_type": "code",
      "execution_count": null,
      "metadata": {
        "tags": [],
        "id": "1mI9UilevAqS",
        "outputId": "1e0b06c7-ad30-46d4-e26f-eba1c84e40bc"
      },
      "outputs": [
        {
          "data": {
            "text/plain": [
              "' 233 people of the 342 passengers that survived were of the female gender which constitutes 68.13 percent of the survived population. '"
            ]
          },
          "execution_count": 137,
          "metadata": {},
          "output_type": "execute_result"
        }
      ],
      "source": [
        "female_survival_rate = \" 233 people of the 342 passengers that survived were of the female gender which constitutes \" + str(percent_female_survival) + \" percent of the survived population. \"\n",
        "female_survival_rate"
      ]
    },
    {
      "cell_type": "code",
      "execution_count": null,
      "metadata": {
        "tags": [],
        "id": "PeBD6MJ7vAqT",
        "outputId": "f0de2530-3826-4266-c04a-7c1d91bd715a"
      },
      "outputs": [
        {
          "data": {
            "text/html": [
              "<div>\n",
              "<style scoped>\n",
              "    .dataframe tbody tr th:only-of-type {\n",
              "        vertical-align: middle;\n",
              "    }\n",
              "\n",
              "    .dataframe tbody tr th {\n",
              "        vertical-align: top;\n",
              "    }\n",
              "\n",
              "    .dataframe thead th {\n",
              "        text-align: right;\n",
              "    }\n",
              "</style>\n",
              "<table border=\"1\" class=\"dataframe\">\n",
              "  <thead>\n",
              "    <tr style=\"text-align: right;\">\n",
              "      <th></th>\n",
              "      <th>mean</th>\n",
              "      <th>median</th>\n",
              "    </tr>\n",
              "    <tr>\n",
              "      <th>Sex</th>\n",
              "      <th></th>\n",
              "      <th></th>\n",
              "    </tr>\n",
              "  </thead>\n",
              "  <tbody>\n",
              "    <tr>\n",
              "      <th>female</th>\n",
              "      <td>27.761146</td>\n",
              "      <td>27.0</td>\n",
              "    </tr>\n",
              "    <tr>\n",
              "      <th>male</th>\n",
              "      <td>30.355581</td>\n",
              "      <td>29.0</td>\n",
              "    </tr>\n",
              "  </tbody>\n",
              "</table>\n",
              "</div>"
            ],
            "text/plain": [
              "             mean  median\n",
              "Sex                      \n",
              "female  27.761146    27.0\n",
              "male    30.355581    29.0"
            ]
          },
          "execution_count": 138,
          "metadata": {},
          "output_type": "execute_result"
        }
      ],
      "source": [
        "titanic.groupby('Sex')['Age'].agg(['mean', 'median'])"
      ]
    },
    {
      "cell_type": "code",
      "execution_count": null,
      "metadata": {
        "tags": [],
        "id": "j-T0zj3VvAqT",
        "outputId": "af6be9bf-c1ce-49df-8f5b-acdb9b153e91"
      },
      "outputs": [
        {
          "name": "stdout",
          "output_type": "stream",
          "text": [
            "SibSp\n",
            "0    210\n",
            "1    112\n",
            "2     13\n",
            "3      4\n",
            "4      3\n",
            "5      0\n",
            "8      0\n",
            "Name: Survived, dtype: int64\n"
          ]
        }
      ],
      "source": [
        "# sibling support and its impact onsurvival rate\n",
        "sibling_support = titanic.groupby([\"SibSp\"])[\"Survived\"].sum()\n",
        "print(sibling_support)"
      ]
    },
    {
      "cell_type": "code",
      "execution_count": null,
      "metadata": {
        "tags": [],
        "id": "0MRbShPIvAqT"
      },
      "outputs": [],
      "source": [
        "sibling_support_conclusion = \"Higher sibling count did not correlate to higher chances of survival as evidenced by data. Infact lower sibling count ensured higher chances of survival. \""
      ]
    },
    {
      "cell_type": "code",
      "execution_count": null,
      "metadata": {
        "tags": [],
        "id": "SChrAdlNvAqT",
        "outputId": "0efe6583-ee5d-43a2-8f43-d84670582be0"
      },
      "outputs": [
        {
          "data": {
            "text/plain": [
              "'Higher sibling count did not correlate to higher chances of survival as evidenced by data. Infact lower sibling count ensured higher chances of survival. '"
            ]
          },
          "execution_count": 141,
          "metadata": {},
          "output_type": "execute_result"
        }
      ],
      "source": [
        "sibling_support_conclusion"
      ]
    },
    {
      "cell_type": "code",
      "execution_count": null,
      "metadata": {
        "tags": [],
        "id": "wsNVDMysvAqT"
      },
      "outputs": [],
      "source": [
        "#checking if family size had any impact on survival rate"
      ]
    },
    {
      "cell_type": "code",
      "execution_count": null,
      "metadata": {
        "tags": [],
        "id": "J38KHIxNvAqT"
      },
      "outputs": [],
      "source": [
        "titanic['FamilySize'] = titanic.SibSp + titanic.Parch"
      ]
    },
    {
      "cell_type": "code",
      "execution_count": null,
      "metadata": {
        "tags": [],
        "id": "do4GAw2fvAqT"
      },
      "outputs": [],
      "source": [
        "family_size_survival = titanic.groupby([\"FamilySize\"])[\"Survived\"].sum()"
      ]
    },
    {
      "cell_type": "code",
      "execution_count": null,
      "metadata": {
        "tags": [],
        "id": "COY-O36evAqT",
        "outputId": "fd08dd8a-065d-44e7-bb42-f189137455fc"
      },
      "outputs": [
        {
          "data": {
            "text/plain": [
              "FamilySize\n",
              "0     163\n",
              "1      89\n",
              "2      59\n",
              "3      21\n",
              "4       3\n",
              "5       3\n",
              "6       4\n",
              "7       0\n",
              "10      0\n",
              "Name: Survived, dtype: int64"
            ]
          },
          "execution_count": 145,
          "metadata": {},
          "output_type": "execute_result"
        }
      ],
      "source": [
        "family_size_survival"
      ]
    },
    {
      "cell_type": "code",
      "execution_count": null,
      "metadata": {
        "tags": [],
        "id": "bJ0N5qvjvAqU"
      },
      "outputs": [],
      "source": [
        "familySize_statement = \"Higher family count did not correlate to higher chances of survival as evidenced by data. Infact lower family count ensured higher chances of survival. Based on data, it can also be assumed that there were not many big families onboard the ship. Hence the low rescue numbers of big families\""
      ]
    },
    {
      "cell_type": "code",
      "execution_count": null,
      "metadata": {
        "tags": [],
        "id": "DCM9dY0LvAqc",
        "outputId": "cafd8fc5-514c-4064-ba38-50918d36f952"
      },
      "outputs": [
        {
          "name": "stdout",
          "output_type": "stream",
          "text": [
            "<pandas.core.groupby.generic.DataFrameGroupBy object at 0x00000221E247A5D0>\n"
          ]
        }
      ],
      "source": [
        "#chances of survival based on class\n",
        "survivedClass = titanic.groupby(\"Pclass\")\n",
        "print(survivedClass)"
      ]
    },
    {
      "cell_type": "code",
      "execution_count": null,
      "metadata": {
        "tags": [],
        "id": "BOjoIvkQvAqc",
        "outputId": "e3203754-f6be-44c1-b020-0186f6d26283"
      },
      "outputs": [
        {
          "name": "stdout",
          "output_type": "stream",
          "text": [
            "Pclass\n",
            "1    136\n",
            "2     87\n",
            "3    119\n",
            "Name: Survived, dtype: int64\n"
          ]
        }
      ],
      "source": [
        "survived_by_class = survivedClass[\"Survived\"].sum()\n",
        "print(survived_by_class)"
      ]
    },
    {
      "cell_type": "code",
      "execution_count": null,
      "metadata": {
        "tags": [],
        "id": "bAvN58yOvAqc"
      },
      "outputs": [],
      "source": [
        "survived_by_class_conclusion = \"Passengers traveling in the First Class cabins had higher chances of survival. \""
      ]
    },
    {
      "cell_type": "code",
      "execution_count": null,
      "metadata": {
        "tags": [],
        "id": "dmU59DoYvAqc"
      },
      "outputs": [],
      "source": [
        "# chances of survival based on gender and class"
      ]
    },
    {
      "cell_type": "code",
      "execution_count": null,
      "metadata": {
        "tags": [],
        "id": "JLx_m8XFvAqc"
      },
      "outputs": [],
      "source": [
        "class_gender_survival = titanic.groupby([\"Pclass\", \"Sex\"])[\"Survived\"].sum()"
      ]
    },
    {
      "cell_type": "code",
      "execution_count": null,
      "metadata": {
        "tags": [],
        "id": "pMd8DrYMvAqc",
        "outputId": "fb27fe86-5e4e-4c3f-d9e7-27410a1dc0eb"
      },
      "outputs": [
        {
          "data": {
            "text/plain": [
              "Pclass  Sex   \n",
              "1       female    91\n",
              "        male      45\n",
              "2       female    70\n",
              "        male      17\n",
              "3       female    72\n",
              "        male      47\n",
              "Name: Survived, dtype: int64"
            ]
          },
          "execution_count": 152,
          "metadata": {},
          "output_type": "execute_result"
        }
      ],
      "source": [
        "class_gender_survival"
      ]
    },
    {
      "cell_type": "code",
      "execution_count": null,
      "metadata": {
        "tags": [],
        "id": "8ngIXYslvAqc"
      },
      "outputs": [],
      "source": [
        "class_gender_survival_conclusion = \"Females in first class were prioritized in the rescue mission while those in 2 and 3 class were given second priority. Men traveling in 2nd class were given least priority in the rescue missions. \""
      ]
    },
    {
      "cell_type": "code",
      "execution_count": null,
      "metadata": {
        "tags": [],
        "id": "50TjreXjvAqd"
      },
      "outputs": [],
      "source": [
        "#checking correlation betweem sex, family size, class and survival rate"
      ]
    },
    {
      "cell_type": "code",
      "execution_count": null,
      "metadata": {
        "tags": [],
        "id": "X39iG_WsvAqd",
        "outputId": "b352a162-644f-401d-a26a-fcf9dc903a18"
      },
      "outputs": [
        {
          "data": {
            "text/plain": [
              "FamilySize  Pclass\n",
              "0           1         58\n",
              "            2         36\n",
              "            3         69\n",
              "1           1         51\n",
              "            2         18\n",
              "            3         20\n",
              "2           1         18\n",
              "            2         21\n",
              "            3         20\n",
              "3           1          5\n",
              "            2         10\n",
              "            3          6\n",
              "4           1          2\n",
              "            2          1\n",
              "            3          0\n",
              "5           1          2\n",
              "            2          1\n",
              "            3          0\n",
              "6           3          4\n",
              "7           3          0\n",
              "10          3          0\n",
              "Name: Survived, dtype: int64"
            ]
          },
          "execution_count": 155,
          "metadata": {},
          "output_type": "execute_result"
        }
      ],
      "source": [
        "family_class =  titanic.groupby([\"FamilySize\",\"Pclass\"])[\"Survived\"].sum()\n",
        "family_class"
      ]
    },
    {
      "cell_type": "code",
      "execution_count": null,
      "metadata": {
        "tags": [],
        "id": "AY3cRiphvAqd",
        "outputId": "b2b261cd-e39d-4609-ba1d-743a9a70522c"
      },
      "outputs": [
        {
          "data": {
            "text/plain": [
              "Sex     FamilySize  Pclass\n",
              "female  0           1         33\n",
              "                    2         29\n",
              "                    3         37\n",
              "        1           1         39\n",
              "                    2         17\n",
              "                    3         15\n",
              "        2           1         13\n",
              "                    2         13\n",
              "                    3         12\n",
              "        3           1          2\n",
              "                    2          9\n",
              "                    3          5\n",
              "        4           1          2\n",
              "                    2          1\n",
              "                    3          0\n",
              "        5           1          2\n",
              "                    2          1\n",
              "                    3          0\n",
              "        6           3          3\n",
              "        7           3          0\n",
              "        10          3          0\n",
              "male    0           1         25\n",
              "                    2          7\n",
              "                    3         32\n",
              "        1           1         12\n",
              "                    2          1\n",
              "                    3          5\n",
              "        2           1          5\n",
              "                    2          8\n",
              "                    3          8\n",
              "        3           1          3\n",
              "                    2          1\n",
              "                    3          1\n",
              "        4           3          0\n",
              "        5           1          0\n",
              "                    3          0\n",
              "        6           3          1\n",
              "        7           3          0\n",
              "        10          3          0\n",
              "Name: Survived, dtype: int64"
            ]
          },
          "execution_count": 156,
          "metadata": {},
          "output_type": "execute_result"
        }
      ],
      "source": [
        "family_gender_class =  titanic.groupby([\"Sex\",\"FamilySize\",\"Pclass\"])[\"Survived\"].sum()\n",
        "family_gender_class"
      ]
    },
    {
      "cell_type": "code",
      "execution_count": null,
      "metadata": {
        "tags": [],
        "id": "QpavXqsZvAqd"
      },
      "outputs": [],
      "source": [
        "family_class_colclusions = \"Smaller family size 0, 1 and 2 and members in the upper class had higher chances of survival as evidenced by data. \""
      ]
    },
    {
      "cell_type": "code",
      "execution_count": null,
      "metadata": {
        "tags": [],
        "id": "cHf3qdYxvAqd"
      },
      "outputs": [],
      "source": [
        "# checking to see correalation between location at which journey was embarked and survival rate"
      ]
    },
    {
      "cell_type": "code",
      "execution_count": null,
      "metadata": {
        "tags": [],
        "id": "MZz3zX17vAqd",
        "outputId": "25a1c290-4bd9-473f-d951-6c75ba932a65"
      },
      "outputs": [
        {
          "data": {
            "text/plain": [
              "Embarked\n",
              "C     93\n",
              "Q     30\n",
              "S    217\n",
              "Name: Survived, dtype: int64"
            ]
          },
          "execution_count": 159,
          "metadata": {},
          "output_type": "execute_result"
        }
      ],
      "source": [
        "embarked_location_survival = titanic.groupby([\"Embarked\"])[\"Survived\"].sum()\n",
        "embarked_location_survival"
      ]
    },
    {
      "cell_type": "code",
      "execution_count": null,
      "metadata": {
        "tags": [],
        "id": "kJ37QsOXvAqd",
        "outputId": "0eb35ec3-dd65-4cb1-a3f9-3ce23e8c33f1"
      },
      "outputs": [
        {
          "data": {
            "text/plain": [
              "Embarked  Sex   \n",
              "C         female     64\n",
              "          male       29\n",
              "Q         female     27\n",
              "          male        3\n",
              "S         female    140\n",
              "          male       77\n",
              "Name: Survived, dtype: int64"
            ]
          },
          "execution_count": 160,
          "metadata": {},
          "output_type": "execute_result"
        }
      ],
      "source": [
        "# classifying based on embarked location and gender\n",
        "embarked_location_survival_female = titanic.groupby([\"Embarked\", \"Sex\"])[\"Survived\"].sum()\n",
        "embarked_location_survival_female\n"
      ]
    },
    {
      "cell_type": "code",
      "execution_count": null,
      "metadata": {
        "tags": [],
        "id": "NKDN0o3CvAqe",
        "outputId": "aa243800-ca0c-4e68-fd50-95e5f058be36"
      },
      "outputs": [
        {
          "data": {
            "text/plain": [
              "'217 passengers that survived embarked at location S which constituted 63.45 of total passengers 140 of whom were females. '"
            ]
          },
          "execution_count": 161,
          "metadata": {},
          "output_type": "execute_result"
        }
      ],
      "source": [
        "embarked_mlocation_survival_conclusion = str(embarked_location_survival[2]) + \" passengers that survived embarked at location S which constituted \"  + str(round(embarked_location_survival[2] * 100 / passengers_survived, 2)) + \" of total passengers 140 of whom were females. \"\n",
        "embarked_mlocation_survival_conclusion"
      ]
    },
    {
      "cell_type": "code",
      "execution_count": null,
      "metadata": {
        "tags": [],
        "id": "s2VuPrIRvAqe",
        "outputId": "91ba8570-791d-4eb2-8aea-c549d18cea95"
      },
      "outputs": [
        {
          "data": {
            "text/plain": [
              "Embarked  Sex   \n",
              "C         female     64\n",
              "          male       29\n",
              "Q         female     27\n",
              "          male        3\n",
              "S         female    140\n",
              "          male       77\n",
              "Name: Survived, dtype: int64"
            ]
          },
          "execution_count": 162,
          "metadata": {},
          "output_type": "execute_result"
        }
      ],
      "source": [
        "embarked_location_survivalG = titanic.groupby([\"Embarked\", \"Sex\"])[\"Survived\"].sum()\n",
        "embarked_location_survivalG"
      ]
    },
    {
      "cell_type": "code",
      "execution_count": null,
      "metadata": {
        "tags": [],
        "id": "ax7EY2KSvAqe"
      },
      "outputs": [],
      "source": [
        "# were children prioritized in rescue mission"
      ]
    },
    {
      "cell_type": "code",
      "execution_count": null,
      "metadata": {
        "tags": [],
        "id": "kWP6ZdQDvAqe",
        "outputId": "dff0451f-6fcf-43b4-d762-58c498a7626a"
      },
      "outputs": [
        {
          "name": "stdout",
          "output_type": "stream",
          "text": [
            "Survival rate for children under 20: 61\n",
            "Survival rate for adults aged 20 and above: 281\n"
          ]
        }
      ],
      "source": [
        "children = titanic[titanic['Age'] < 18]\n",
        "\n",
        "# Calculate the survival rate for children\n",
        "children_survival_rate = children['Survived'].sum()\n",
        "\n",
        "# Filter passengers aged 20 and above\n",
        "adults = titanic[titanic['Age'] >= 18]\n",
        "\n",
        "# Calculate the survival rate for adults\n",
        "adults_survival_rate = adults['Survived'].sum()\n",
        "\n",
        "# Print the survival rates\n",
        "print(\"Survival rate for children under 20:\", children_survival_rate)\n",
        "print(\"Survival rate for adults aged 20 and above:\", adults_survival_rate)"
      ]
    },
    {
      "cell_type": "code",
      "execution_count": null,
      "metadata": {
        "tags": [],
        "id": "y9IB9MuAvAqe",
        "outputId": "c973f378-485a-46c9-a1f1-c2a87a8ce7de"
      },
      "outputs": [
        {
          "data": {
            "text/plain": [
              "'61 children were rescued in the mission, which is 17.84 percent of total survivors.'"
            ]
          },
          "execution_count": 165,
          "metadata": {},
          "output_type": "execute_result"
        }
      ],
      "source": [
        "children_survival_rate_conclusion = str(children_survival_rate) + \" children were rescued in the mission, which is \" + str(round(children_survival_rate * 100 / passengers_survived, 2)) + \" percent of total survivors.\"\n",
        "children_survival_rate_conclusion"
      ]
    },
    {
      "cell_type": "code",
      "execution_count": null,
      "metadata": {
        "tags": [],
        "id": "24thZvc-vAqe"
      },
      "outputs": [],
      "source": [
        "conclusion = survived_passengers + sibling_support_conclusion + familySize_statement + survived_by_class_conclusion +family_class_colclusions+ class_gender_survival_conclusion + embarked_mlocation_survival_conclusion + children_survival_rate_conclusion"
      ]
    },
    {
      "cell_type": "code",
      "execution_count": null,
      "metadata": {
        "tags": [],
        "id": "ZCojS00AvAqf",
        "outputId": "48884031-7861-4967-bd48-6b54a0046947"
      },
      "outputs": [
        {
          "data": {
            "text/plain": [
              "'342 passengers suvived the Titanic crash which is 38.38 percent of passengers on board. Higher sibling count did not correlate to higher chances of survival as evidenced by data. Infact lower sibling count ensured higher chances of survival. Higher family count did not correlate to higher chances of survival as evidenced by data. Infact lower family count ensured higher chances of survival. Based on data, it can also be assumed that there were not many big families onboard the ship. Hence the low rescue numbers of big familiesPassengers traveling in the First Class cabins had higher chances of survival. Smaller family size 0, 1 and 2 and members in the upper class had higher chances of survival as evidenced by data. Females in first class were prioritized in the rescue mission while those in 2 and 3 class were given second priority. Men traveling in 2nd class were given least priority in the rescue missions. 217 passengers that survived embarked at location S which constituted 63.45 of total passengers 140 of whom were females. 61 children were rescued in the mission, which is 17.84 percent of total survivors.'"
            ]
          },
          "execution_count": 167,
          "metadata": {},
          "output_type": "execute_result"
        }
      ],
      "source": [
        "conclusion\n"
      ]
    }
  ],
  "metadata": {
    "kernelspec": {
      "display_name": "Python 3 (ipykernel)",
      "language": "python",
      "name": "python3"
    },
    "language_info": {
      "codemirror_mode": {
        "name": "ipython",
        "version": 3
      },
      "file_extension": ".py",
      "mimetype": "text/x-python",
      "name": "python",
      "nbconvert_exporter": "python",
      "pygments_lexer": "ipython3",
      "version": "3.11.5"
    },
    "toc": {
      "base_numbering": 1,
      "nav_menu": {},
      "number_sections": false,
      "sideBar": true,
      "skip_h1_title": false,
      "title_cell": "Table of Contents",
      "title_sidebar": "Contents",
      "toc_cell": false,
      "toc_position": {},
      "toc_section_display": true,
      "toc_window_display": false
    },
    "colab": {
      "provenance": [],
      "include_colab_link": true
    }
  },
  "nbformat": 4,
  "nbformat_minor": 0
}